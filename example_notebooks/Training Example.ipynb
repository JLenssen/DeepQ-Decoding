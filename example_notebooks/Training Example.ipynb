{
 "cells": [
  {
   "cell_type": "markdown",
   "metadata": {},
   "source": [
    "## 2) Training Decoders in Practice\n",
    "\n",
    "Now that we have discussed the conceptual foundations, strategies and techniques involved, lets walk through a detailed example of how to train a decoder.\n",
    "\n",
    "### 2a) Requirements\n",
    "\n",
    "The following packages are required, and can be installed via PIP:\n",
    "\n",
    "<ol>\n",
    "  <li> Python 3</li>\n",
    "  <li> tensorflow </li>\n",
    "  <li> keras </li> \n",
    "  <li> gym </li> \n",
    "</ol> \n",
    "\n",
    "In addition, a modified version of the Keras-RL package is required, which should be installed from <a href=\"https://github.com/R-Sweke/keras-rl\">this fork</a>"
   ]
  },
  {
   "cell_type": "code",
   "execution_count": null,
   "metadata": {},
   "outputs": [],
   "source": []
  }
 ],
 "metadata": {
  "kernelspec": {
   "display_name": "Python 3",
   "language": "python",
   "name": "python3"
  },
  "language_info": {
   "codemirror_mode": {
    "name": "ipython",
    "version": 3
   },
   "file_extension": ".py",
   "mimetype": "text/x-python",
   "name": "python",
   "nbconvert_exporter": "python",
   "pygments_lexer": "ipython3",
   "version": "3.5.2"
  }
 },
 "nbformat": 4,
 "nbformat_minor": 2
}
