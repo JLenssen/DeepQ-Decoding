{
 "cells": [
  {
   "cell_type": "markdown",
   "id": "bbca38f1-e6ac-4830-bc1d-5dffb4df4305",
   "metadata": {},
   "source": [
    "### Stim Tableau Simulator\n",
    "This notebook explores stim's tableau simulator. The rotated surface code is implemented and its stabilizers generated.\n",
    "To double check the stabilizer, CHP circuits are generated. CHP stabilizers are compared with those of stim."
   ]
  },
  {
   "cell_type": "code",
   "execution_count": 43,
   "id": "2d93f004-0a11-4610-8425-4feb1b9ee184",
   "metadata": {},
   "outputs": [],
   "source": [
    "import stim\n",
    "import numpy as np"
   ]
  },
  {
   "cell_type": "markdown",
   "id": "8899b7af-b436-4896-9d57-8c1b7e28eef5",
   "metadata": {},
   "source": [
    "Below is an example how to use the tableau simulator in stim. A circuit computing unitary $C$ is generated. The tableau reports for each qubit the effect of the circuit, given $Z_n$ and $X_n$ as starting point. The tableau contains therefore entries $CZ_nC^{\\dagger}$ and $CX_nC^{\\dagger}$"
   ]
  },
  {
   "cell_type": "code",
   "execution_count": 45,
   "id": "2829b7f2-ec62-480f-bdcd-d7d2e3c5e2a3",
   "metadata": {},
   "outputs": [
    {
     "name": "stdout",
     "output_type": "stream",
     "text": [
      "+-xz-\n",
      "| ++\n",
      "| ZX\n"
     ]
    }
   ],
   "source": [
    "s = stim.TableauSimulator()\n",
    "\n",
    "s.h(0)\n",
    "t = s.current_inverse_tableau()\n",
    "print(t**-1)"
   ]
  },
  {
   "cell_type": "code",
   "execution_count": 46,
   "id": "341eb72f-c310-4bcd-9092-f8a0662592a6",
   "metadata": {},
   "outputs": [],
   "source": [
    "# d = 3\n",
    "\n",
    "# circuit = stim.Circuit.generated(\n",
    "#     \"surface_code:rotated_memory_z\",\n",
    "#     rounds=1,\n",
    "#     distance=d\n",
    "# )\n",
    "# print(repr(circuit))"
   ]
  },
  {
   "cell_type": "code",
   "execution_count": 47,
   "id": "48d43407-de6d-4f40-a23b-f9d80e1389b9",
   "metadata": {},
   "outputs": [],
   "source": [
    "class RotatedSurfaceCode:\n",
    "    \"\"\"\n",
    "    Class for keeping track of coordinates for data qubits and\n",
    "    measurement qubits in the rotated surface code.\n",
    "    Helper functions generate stim circuits, stim tableau simulator \n",
    "    circuits and CHP circuit code to help with experiments.\n",
    "    \"\"\"\n",
    "    \n",
    "    def __init__(self, d=5, rotated=True):\n",
    "        self.d = d\n",
    "        self.rotated = rotated\n",
    "        self.data_coords = []\n",
    "        self.x_measurement_coords = []\n",
    "        self.z_measurement_coords = []\n",
    "        \n",
    "        # place data qubits on odd coords\n",
    "        for x in range(d):\n",
    "            for y in range(d):\n",
    "                self.data_coords.append((2*x+1, 2*y+1))\n",
    "        \n",
    "        # place measurement qubits on even \n",
    "        # coords (with exceptins on boundaries)\n",
    "        for x in range(d+1):\n",
    "            for y in range(d+1):\n",
    "                on_boundary_1 = (x == 0) or (x == d)\n",
    "                on_boundary_2 = (y == 0) or (y == d)\n",
    "                parity = (x % 2) != (y % 2)\n",
    "                \n",
    "                if on_boundary_1 and parity:\n",
    "                    continue\n",
    "                if on_boundary_2 and not parity:\n",
    "                    continue\n",
    "                if parity:\n",
    "                    self.x_measurement_coords.append((2*x,2*y))\n",
    "                else:\n",
    "                    self.z_measurement_coords.append((2*x,2*y))\n",
    "                    \n",
    "        self.z_order = [ (1, 1), (1,-1), (-1,1), (-1,-1) ]\n",
    "        self.x_order = [ (1, 1), (-1,1), (1,-1), (-1,-1) ]\n",
    "        self.prepare_circuit_data()\n",
    "    \n",
    "    def coord_to_index(self,x,y):\n",
    "        (x,y) = (x, y - x % 2)\n",
    "        return int(x + y * (self.d + 0.5))\n",
    "        \n",
    "    def prepare_circuit_data(self):\n",
    "\n",
    "        # create coords to index mapping\n",
    "        p2q = {}\n",
    "        for q in self.data_coords:\n",
    "            p2q[q] = self.coord_to_index(*q)\n",
    "        for q in self.x_measurement_coords:\n",
    "            p2q[q] = self.coord_to_index(*q)\n",
    "        for q in self.z_measurement_coords:\n",
    "            p2q[q] = self.coord_to_index(*q)\n",
    "            \n",
    "        # generate inverse mapping\n",
    "        q2p = {v: k for k, v in p2q.items()}\n",
    "        \n",
    "        self.data_qubits = []\n",
    "        self.measurement_qubits = []\n",
    "        self.x_measurement_qubits = []\n",
    "        self.all_qubits = []\n",
    "        \n",
    "        for q in self.data_coords:\n",
    "            self.data_qubits.append(p2q[q])\n",
    "        for q in self.x_measurement_coords:\n",
    "            self.measurement_qubits.append(p2q[q])\n",
    "            self.x_measurement_qubits.append(p2q[q])\n",
    "        for q in self.z_measurement_coords:\n",
    "            self.measurement_qubits.append(p2q[q])\n",
    "        self.all_qubits.append(self.data_qubits)\n",
    "        self.all_qubits.append(self.measurement_qubits)\n",
    "        self.all_qubits.sort()\n",
    "        self.data_qubits.sort()\n",
    "        self.measurement_qubits.sort()\n",
    "        self.x_measurement_qubits.sort()\n",
    "        \n",
    "        # generate CNOT gate targets\n",
    "        self.cnot_targets = []\n",
    "        for k in range(4):\n",
    "            self.cnot_targets.append([])\n",
    "            for m in self.x_measurement_coords:\n",
    "                data = (m[0] + self.x_order[k][0], m[1] + self.x_order[k][1])\n",
    "                if data in p2q:\n",
    "                    self.cnot_targets[k].append(p2q[m])\n",
    "                    self.cnot_targets[k].append(p2q[data])\n",
    "            for m in self.z_measurement_coords:\n",
    "                data = (m[0] + self.z_order[k][0], m[1] + self.z_order[k][1])\n",
    "                if data in p2q:\n",
    "                    self.cnot_targets[k].append(p2q[data])\n",
    "                    self.cnot_targets[k].append(p2q[m])\n",
    "        \n",
    "    def generate_stim_circuit(self):\n",
    "        \"\"\"\n",
    "        Generates one rotated surface code cycle as stim circuit\n",
    "        \"\"\"\n",
    "        circuit_cycle = stim.Circuit()\n",
    "        circuit_cycle.append_operation(\"RZ\", self.data_qubits)\n",
    "        circuit_cycle.append_operation(\"R\", self.measurement_qubits)\n",
    "        circuit_cycle.append_operation(\"H\", self.x_measurement_qubits)\n",
    "        for targets in self.cnot_targets:\n",
    "            circuit_cycle.append_operation(\"TICK\")\n",
    "            circuit_cycle.append_operation(\"CNOT\", targets)\n",
    "        circuit_cycle.append_operation(\"TICK\")\n",
    "        circuit_cycle.append_operation(\"H\", self.x_measurement_qubits)\n",
    "        circuit_cycle.append_operation(\"TICK\")\n",
    "        circuit_cycle.append_operation(\"MR\", self.measurement_qubits)\n",
    "        return circuit_cycle\n",
    "    \n",
    "    def generate_chp_circuit(self):\n",
    "        \"\"\"\n",
    "        Generates string for CHP stabilizer simulator\n",
    "        ! Double check RX state preparation !\n",
    "        \"\"\"\n",
    "        stim_circuit = self.generate_stim_circuit()\n",
    "        chp_circuit = \"\"\n",
    "        # for line in stim_circuit:\n",
    "        for i in range(len(stim_circuit)):\n",
    "            current_line = str(stim_circuit[i])\n",
    "            if \"TICK\" in current_line:\n",
    "                continue\n",
    "            if \"H\" in current_line:\n",
    "                for op in current_line.split()[1:]:\n",
    "                    chp_circuit += \"h {}\\n\".format(op)\n",
    "            if \"CX\" in current_line:\n",
    "                ops = current_line.split()[1:]\n",
    "                ops = [\" \".join(ops[i:i+2]) for i in range(0, len(ops), 2)]\n",
    "                for op in ops:\n",
    "                    chp_circuit += \"c {}\\n\".format(op)\n",
    "            if \"MR\" in current_line:\n",
    "                for op in current_line.split()[1:]:\n",
    "                    chp_circuit += \"m {}\\n\".format(op)\n",
    "        return chp_circuit\n",
    "    \n",
    "    def generate_stim_tableau_circuit(self):\n",
    "        \"\"\"\n",
    "        Generates circuit for stim's tableau simulator\n",
    "        \"\"\"\n",
    "        # create circuit for tableau simulator\n",
    "        s = stim.TableauSimulator()\n",
    "        c = self.generate_stim_circuit()\n",
    "        s.do_circuit(c)\n",
    "        return s"
   ]
  },
  {
   "cell_type": "markdown",
   "id": "b6094dc4-04e6-4b74-bcb4-76b21e406c84",
   "metadata": {},
   "source": [
    "We first generate the circuit for stim's tableau simulator and extract the tableau"
   ]
  },
  {
   "cell_type": "code",
   "execution_count": 48,
   "id": "d608b511-df07-482b-b6d0-4ac014e6da67",
   "metadata": {},
   "outputs": [],
   "source": [
    "rsf = RotatedSurfaceCode(d=3, rotated=True)\n",
    "s = rsf.generate_stim_tableau_circuit()\n",
    "t = s.current_inverse_tableau()\n",
    "t = t**-1"
   ]
  },
  {
   "cell_type": "markdown",
   "id": "ba71d365-7951-4eae-99a1-ccf36dc4711b",
   "metadata": {},
   "source": [
    "Next, we print the stabilizers for the data qubits"
   ]
  },
  {
   "cell_type": "code",
   "execution_count": 49,
   "id": "79201211-ccaa-44e6-9d15-23fe92acf54a",
   "metadata": {},
   "outputs": [
    {
     "name": "stdout",
     "output_type": "stream",
     "text": [
      "-XX_______\n",
      "-_XX_XX___\n",
      "+___XX_XX_\n",
      "+_______XX\n",
      "+ZZZ______\n",
      "+ZZ_ZZ____\n",
      "+ZZ___Z___\n",
      "+___Z__Z__\n",
      "+___Z___ZZ\n",
      "\n"
     ]
    }
   ],
   "source": [
    " def print_data_qubits_stabilizers(tableau, data_qubits):\n",
    "    enc = {0: \"_\", 1: \"X\", 2: \"Y\", 3: \"Z\"}\n",
    "    # extract stabilizers for data qubits\n",
    "    X = Z = \"\"\n",
    "    for q in data_qubits:\n",
    "        pauli = tableau.z_output(q)\n",
    "        pauli_str = \"+\" if int(pauli.sign.real) > 0 else \"-\"\n",
    "        for q in data_qubits:\n",
    "            pauli_str += enc[pauli[q]]\n",
    "        if \"Z\" in pauli_str:\n",
    "            Z += pauli_str + \"\\n\"\n",
    "        else:\n",
    "            X += pauli_str + \"\\n\"\n",
    "    print(X+Z)\n",
    "\n",
    "print_data_qubits_stabilizers(t, rsf.data_qubits)"
   ]
  },
  {
   "cell_type": "markdown",
   "id": "dbcc7e6c-3378-4127-b4e3-07e7fd7ed0fe",
   "metadata": {},
   "source": [
    "Additionally we can print the complete tableau for the rotated surface code circuit.<br>\n",
    "**Note**, that the first qubit is 0 and the last qubit is 26. Some of the qubits are not touched in the circuit (e.g. *qubit 0*)."
   ]
  },
  {
   "cell_type": "code",
   "execution_count": 50,
   "id": "dd2ef36a-739e-4b0c-a684-60d56aa8ad5f",
   "metadata": {},
   "outputs": [
    {
     "name": "stdout",
     "output_type": "stream",
     "text": [
      "+-xz-xz-xz-xz-xz-xz-xz-xz-xz-xz-xz-xz-xz-xz-xz-xz-xz-xz-xz-xz-xz-xz-xz-xz-xz-xz-\n",
      "| ++ +- +- +- ++ ++ ++ ++ ++ ++ ++ +- ++ ++ ++ ++ ++ ++ ++ ++ ++ ++ ++ ++ ++ ++\n",
      "| XZ __ __ __ __ __ __ __ __ __ __ __ __ __ __ __ __ __ __ __ __ __ __ __ __ __\n",
      "| __ ZX _X Z_ __ _Z __ __ __ _Z _Z __ _Z __ __ __ __ __ __ __ __ __ __ __ __ __\n",
      "| __ X_ XZ __ __ __ __ __ __ __ __ __ __ __ __ __ __ __ __ __ __ __ __ __ __ __\n",
      "| __ _X _X ZX __ _Z __ __ __ _Z _Z _X _Z __ __ __ __ __ __ __ __ __ __ __ __ __\n",
      "| __ __ __ __ XZ __ __ __ __ __ __ __ __ __ __ __ __ __ __ __ __ __ __ __ __ __\n",
      "| __ __ __ _X __ XZ __ __ __ __ __ _X __ _Z __ __ __ __ __ __ __ __ __ __ __ __\n",
      "| __ __ __ __ __ __ XZ __ __ __ __ __ __ __ __ __ __ __ __ __ __ __ __ __ __ __\n",
      "| __ __ __ __ __ __ __ XZ __ __ __ __ __ __ __ __ __ __ __ __ __ __ __ __ __ __\n",
      "| __ __ __ __ __ __ __ __ ZX _Z _Z __ __ __ _Z _Z _X Z_ __ _Z __ __ __ __ __ __\n",
      "| __ __ __ __ __ __ __ __ __ XZ X_ __ __ __ __ __ __ __ __ __ __ __ __ __ __ __\n",
      "| __ __ __ _X __ __ __ __ _X _Z XZ _X __ __ __ __ _X __ _Z __ __ __ __ __ __ __\n",
      "| __ __ __ X_ __ __ __ __ __ __ __ XZ __ __ __ __ __ __ __ __ __ __ __ __ __ __\n",
      "| __ __ __ _X __ __ __ __ __ __ __ _X XZ _Z __ __ __ __ _Z __ __ __ __ __ __ __\n",
      "| __ __ __ __ __ X_ __ __ __ __ __ __ X_ XZ __ __ __ __ __ __ __ __ __ __ __ __\n",
      "| __ __ __ __ __ __ __ __ __ __ __ __ __ __ XZ X_ __ __ __ __ __ __ __ __ __ __\n",
      "| __ __ __ __ __ __ __ __ _X __ __ __ __ __ _Z XZ _X __ __ __ __ __ __ __ __ __\n",
      "| __ __ __ __ __ __ __ __ X_ __ __ __ __ __ __ __ XZ __ __ __ __ __ __ __ __ __\n",
      "| __ __ __ __ __ __ __ __ _X __ __ __ __ __ __ __ _X ZX _Z _Z __ __ __ __ __ _X\n",
      "| __ __ __ __ __ __ __ __ __ __ X_ __ X_ __ __ __ __ __ XZ X_ __ __ __ __ __ __\n",
      "| __ __ __ __ __ __ __ __ __ __ __ __ __ __ __ __ __ _X _Z XZ __ __ __ __ __ _X\n",
      "| __ __ __ __ __ __ __ __ __ __ __ __ __ __ __ __ __ __ __ __ XZ __ __ __ __ __\n",
      "| __ __ __ __ __ __ __ __ __ __ __ __ __ __ __ __ __ __ __ __ __ XZ __ __ __ __\n",
      "| __ __ __ __ __ __ __ __ __ __ __ __ __ __ __ __ __ __ __ __ __ __ XZ __ __ __\n",
      "| __ __ __ __ __ __ __ __ __ __ __ __ __ __ __ __ __ __ __ __ __ __ __ XZ __ __\n",
      "| __ __ __ __ __ __ __ __ __ __ __ __ __ __ __ __ __ __ __ __ __ __ __ __ XZ __\n",
      "| __ __ __ __ __ __ __ __ __ __ __ __ __ __ __ __ __ X_ __ __ __ __ __ __ __ XZ\n"
     ]
    }
   ],
   "source": [
    "print(t)"
   ]
  },
  {
   "cell_type": "markdown",
   "id": "04f71e3d-bf02-490b-baaf-478d5c62ab20",
   "metadata": {},
   "source": [
    "We are now interested in learning the effect of the correction made by the decoder (e.g. deepq) on the stabilizers.<br>\n",
    "**TODO**: Not clear how this works with deepq?"
   ]
  },
  {
   "cell_type": "code",
   "execution_count": 55,
   "id": "29ecde6a-d396-4c91-a1bd-8ba0df9d5995",
   "metadata": {},
   "outputs": [
    {
     "name": "stdout",
     "output_type": "stream",
     "text": [
      "-1\n",
      "-1\n",
      "1\n",
      "0\n",
      "0\n",
      "0\n"
     ]
    }
   ],
   "source": [
    "# create a copy of the original tableau\n",
    "v = s.copy()\n",
    "# apply logical observable\n",
    "observable_qubits = [1,8,15]\n",
    "v.x(*observable_qubits)\n",
    "# apply some \"hidden\" errors\n",
    "# v.x(5)\n",
    "# v.x(10)\n",
    "# we assume that the decoder wants to \"correct\" qubit 19 (bottom right data qubit)\n",
    "v.x(19)\n",
    "# next, we measure the logical observable again (unphysical way)\n",
    "# Z observables should be deterministic and not random\n",
    "print(v.peek_observable_expectation(stim.PauliString(\"+_Z_Z_Z\")))\n",
    "print(v.peek_observable_expectation(stim.PauliString(\"+________Z_Z_Z\")))\n",
    "print(v.peek_observable_expectation(stim.PauliString(\"+_______________Z_Z_Z\")))\n",
    "# X observables should be random\n",
    "print(v.peek_observable_expectation(stim.PauliString(\"+_X______X______X\")))\n",
    "print(v.peek_observable_expectation(stim.PauliString(\"+___X______X______X\")))\n",
    "print(v.peek_observable_expectation(stim.PauliString(\"+_____X______X______X\")))"
   ]
  },
  {
   "cell_type": "code",
   "execution_count": 32,
   "id": "6111cea2-6aca-4c50-93ca-62e126ae4ede",
   "metadata": {},
   "outputs": [
    {
     "name": "stdout",
     "output_type": "stream",
     "text": [
      "+XX_______\n",
      "-_XX_XX___\n",
      "-___XX_XX_\n",
      "+_______XX\n",
      "-ZZZ______\n",
      "+ZZ_ZZ____\n",
      "-ZZ___Z___\n",
      "+___Z__Z__\n",
      "-___Z___ZZ\n",
      "\n"
     ]
    }
   ],
   "source": [
    "# extract stabilizers for data qubits\n",
    "vt = v.current_inverse_tableau()\n",
    "vt = vt**-1\n",
    "print_data_qubits_stabilizers(vt, rsf.data_qubits)"
   ]
  }
 ],
 "metadata": {
  "kernelspec": {
   "display_name": "deepq",
   "language": "python",
   "name": "deepq"
  },
  "language_info": {
   "codemirror_mode": {
    "name": "ipython",
    "version": 3
   },
   "file_extension": ".py",
   "mimetype": "text/x-python",
   "name": "python",
   "nbconvert_exporter": "python",
   "pygments_lexer": "ipython3",
   "version": "3.7.12"
  }
 },
 "nbformat": 4,
 "nbformat_minor": 5
}
