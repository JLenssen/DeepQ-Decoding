{
 "cells": [
  {
   "cell_type": "markdown",
   "id": "fb34977b-4ad2-48f4-9cb5-2180135d75e5",
   "metadata": {},
   "source": [
    "### Training a referee decoder\n",
    "\n",
    "#### NOTE: Not finished!\n",
    "\n",
    "Deepq requires a referee decoder to evaluate actions taken during episodes. The paper doesn't describe the details of the referee decoder and only gives weights for the `d=5` referee. In this notebook we train a referee decoder for `d=7` using stim."
   ]
  },
  {
   "cell_type": "code",
   "execution_count": 74,
   "id": "03a4e194-b3dd-4f2e-b14d-120d064e72b7",
   "metadata": {},
   "outputs": [],
   "source": [
    "import keras\n",
    "from keras.models import load_model, clone_model\n",
    "\n",
    "from deepq.Environments import *\n",
    "from deepq.Function_Library import *\n",
    "from deepq.Utils import *\n",
    "\n",
    "import stim\n",
    "import numpy as np\n",
    "\n",
    "import os"
   ]
  },
  {
   "cell_type": "code",
   "execution_count": 75,
   "id": "bfd53f10-fcdb-4f8f-b266-0447ae43c9db",
   "metadata": {},
   "outputs": [],
   "source": [
    "# load model architecture from previous referee decoder\n",
    "static_decoder_path = os.path.join(os.getcwd(), \"referee_decoders/nn_d5_X_p5\")\n",
    "static_decoder = load_model(static_decoder_path)"
   ]
  },
  {
   "cell_type": "code",
   "execution_count": 76,
   "id": "2d4bb325-7ca5-4e63-850f-64cceb91d1ef",
   "metadata": {},
   "outputs": [
    {
     "name": "stdout",
     "output_type": "stream",
     "text": [
      "Model: \"sequential_4\"\n",
      "_________________________________________________________________\n",
      "Layer (type)                 Output Shape              Param #   \n",
      "=================================================================\n",
      "dense_1 (Dense)              (None, 1000)              37000     \n",
      "_________________________________________________________________\n",
      "dropout_1 (Dropout)          (None, 1000)              0         \n",
      "_________________________________________________________________\n",
      "dense_2 (Dense)              (None, 500)               500500    \n",
      "_________________________________________________________________\n",
      "dropout_2 (Dropout)          (None, 500)               0         \n",
      "_________________________________________________________________\n",
      "dense_3 (Dense)              (None, 250)               125250    \n",
      "_________________________________________________________________\n",
      "dropout_3 (Dropout)          (None, 250)               0         \n",
      "_________________________________________________________________\n",
      "dense_4 (Dense)              (None, 50)                12550     \n",
      "_________________________________________________________________\n",
      "dropout_4 (Dropout)          (None, 50)                0         \n",
      "_________________________________________________________________\n",
      "dense_5 (Dense)              (None, 2)                 102       \n",
      "=================================================================\n",
      "Total params: 675,402\n",
      "Trainable params: 675,402\n",
      "Non-trainable params: 0\n",
      "_________________________________________________________________\n"
     ]
    }
   ],
   "source": [
    "# get summary of current referee architecture\n",
    "static_decoder.summary()"
   ]
  },
  {
   "cell_type": "code",
   "execution_count": 77,
   "id": "4d3473c9-d981-4db5-a141-b447e54137eb",
   "metadata": {},
   "outputs": [
    {
     "name": "stdout",
     "output_type": "stream",
     "text": [
      "Model: \"sequential_4\"\n",
      "_________________________________________________________________\n",
      "Layer (type)                 Output Shape              Param #   \n",
      "=================================================================\n",
      "dense_1 (Dense)              (None, 1000)              65000     \n",
      "_________________________________________________________________\n",
      "dropout_1 (Dropout)          (None, 1000)              0         \n",
      "_________________________________________________________________\n",
      "dense_2 (Dense)              (None, 500)               500500    \n",
      "_________________________________________________________________\n",
      "dropout_2 (Dropout)          (None, 500)               0         \n",
      "_________________________________________________________________\n",
      "dense_3 (Dense)              (None, 250)               125250    \n",
      "_________________________________________________________________\n",
      "dropout_3 (Dropout)          (None, 250)               0         \n",
      "_________________________________________________________________\n",
      "dense_4 (Dense)              (None, 50)                12550     \n",
      "_________________________________________________________________\n",
      "dropout_4 (Dropout)          (None, 50)                0         \n",
      "_________________________________________________________________\n",
      "dense_5 (Dense)              (None, 2)                 102       \n",
      "=================================================================\n",
      "Total params: 703,402\n",
      "Trainable params: 703,402\n",
      "Non-trainable params: 0\n",
      "_________________________________________________________________\n"
     ]
    },
    {
     "data": {
      "text/plain": [
       "(None, 64)"
      ]
     },
     "execution_count": 77,
     "metadata": {},
     "output_type": "execute_result"
    }
   ],
   "source": [
    "new_referee = clone_model(static_decoder, keras.Input(shape=(64,)))\n",
    "new_referee.summary()\n",
    "new_referee.input_shape"
   ]
  },
  {
   "cell_type": "code",
   "execution_count": 94,
   "id": "97cb3c0b-50e9-430a-9611-e1877aaf7557",
   "metadata": {},
   "outputs": [],
   "source": [
    "d = 5\n",
    "rounds = 10\n",
    "batch_size = 10_000\n",
    "p = 0.009\n",
    "\n",
    "# circuit = stim.Circuit.generated(\n",
    "#     \"surface_code:rotated_memory_z\",\n",
    "#     rounds=rounds,\n",
    "#     distance=d,\n",
    "#     before_round_data_depolarization=p)\n",
    "circuit = stim.Circuit.from_file(\"sf-d5-x-error.stim\")"
   ]
  },
  {
   "cell_type": "code",
   "execution_count": 95,
   "id": "435cf2c0-7714-4fa6-b189-e7eb26e3da79",
   "metadata": {},
   "outputs": [],
   "source": [
    "# This is for sampling from detectors (which introduces temporal dependencies)\n",
    "detector_sampler = circuit.compile_detector_sampler()\n",
    "shots = detector_sampler.sample(batch_size, append_observables=True)\n",
    "\n",
    "# first cycle: (d**2-1)/2 detector measurements.\n",
    "# second cycle:, (d**2-1)/2 X/Z and Z/X checks\n",
    "detector_parts = shots[:, : circuit.num_detectors]\n",
    "# logical observable along boundary\n",
    "actual_observable_parts = shots[:, circuit.num_detectors :]"
   ]
  },
  {
   "cell_type": "code",
   "execution_count": 96,
   "id": "d31c4e02-e36e-48e2-8878-7c0a47e6c89b",
   "metadata": {},
   "outputs": [],
   "source": [
    "mround = d**2 - 1\n",
    "syndrome_coords = circuit.get_detector_coordinates()\n",
    "syndrome_coords = (\n",
    "    np.array([syndrome_coords[e][0:2] for e in range(len(syndrome_coords))], int) // 2\n",
    ")\n",
    "\n",
    "def get_syndrome(syndromes, coords):\n",
    "    faulty_syndrome = np.zeros((d + 1, d + 1), int)\n",
    "    for e in range(len(syndromes)):\n",
    "        i, j = coords[e]\n",
    "        faulty_syndrome[i, j] = syndromes[e]\n",
    "    # We need to flip the surface code around vertical axis\n",
    "    # faulty_syndrome = np.fliplr(faulty_syndrome)\n",
    "    faulty_syndrome = np.flipud(faulty_syndrome)\n",
    "    return faulty_syndrome\n",
    "\n",
    "\n",
    "faulty_syndromes = np.zeros((batch_size, rounds, d + 1, d + 1), int)\n",
    "for t in range(batch_size):\n",
    "    for s in range(rounds):\n",
    "        faulty_syndromes[t][s] = get_syndrome(\n",
    "            detector_parts[t][(s+1) * mround : (s + 2) * mround],\n",
    "            syndrome_coords[(s+1) * mround : (s + 2) * mround],\n",
    "        )\n",
    "\n",
    "# detectors detect differences between time steps.\n",
    "# We want absolute values for each time step.\n",
    "for t in range(batch_size):\n",
    "    for s in range(1, rounds):\n",
    "        faulty_syndromes[t, s] += faulty_syndromes[t, s - 1]\n",
    "        faulty_syndromes[t, s] = faulty_syndromes[t, s] % 2"
   ]
  },
  {
   "cell_type": "code",
   "execution_count": 97,
   "id": "1eafaf54-03aa-4010-bde0-0b0566f963a7",
   "metadata": {},
   "outputs": [],
   "source": [
    "faulty_syndromes = faulty_syndromes[:,-1,:,:]"
   ]
  },
  {
   "cell_type": "code",
   "execution_count": 100,
   "id": "7673223b-9b3e-4d89-bf33-efb6fb94bc21",
   "metadata": {},
   "outputs": [
    {
     "name": "stdout",
     "output_type": "stream",
     "text": [
      "accuracy: 0.8802\n",
      "predicted flip: 0.6223300970873786, number of logical errors: 2060, corrected: 1282\n"
     ]
    }
   ],
   "source": [
    "acc = 0\n",
    "flipped = 0\n",
    "one = 0\n",
    "for t in range(batch_size):\n",
    "    current_true_syndrome_vector = np.reshape(faulty_syndromes[t,:,:],(d+1)**2) \n",
    "    decoder_label = static_decoder.predict(np.array([current_true_syndrome_vector]), batch_size=1, verbose=0)\n",
    "    actual_observable_parts[t] = int(actual_observable_parts[t])\n",
    "    \n",
    "    if actual_observable_parts[t] == 1:\n",
    "        one += 1\n",
    "    \n",
    "    if np.argmax(decoder_label[0]) == actual_observable_parts[t]:\n",
    "        acc += 1\n",
    "        \n",
    "        if np.argmax(decoder_label[0]) == 1:\n",
    "            flipped += 1\n",
    "        \n",
    "print(f\"accuracy: {acc/batch_size}\")\n",
    "print(f\"predicted flip: {flipped/one}, number of logical errors: {one}, corrected: {flipped}\")"
   ]
  },
  {
   "cell_type": "code",
   "execution_count": null,
   "id": "3337b0c7-86d1-4c65-8074-759c8dcc1287",
   "metadata": {},
   "outputs": [],
   "source": []
  }
 ],
 "metadata": {
  "kernelspec": {
   "display_name": "deepq",
   "language": "python",
   "name": "deepq"
  },
  "language_info": {
   "codemirror_mode": {
    "name": "ipython",
    "version": 3
   },
   "file_extension": ".py",
   "mimetype": "text/x-python",
   "name": "python",
   "nbconvert_exporter": "python",
   "pygments_lexer": "ipython3",
   "version": "3.7.12"
  }
 },
 "nbformat": 4,
 "nbformat_minor": 5
}
